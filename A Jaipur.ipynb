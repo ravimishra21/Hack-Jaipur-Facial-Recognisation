{
 "cells": [
  {
   "cell_type": "markdown",
   "metadata": {},
   "source": [
    "\n",
    "###  CHECK SOCIAL DISTANCING RULE FOLLOWED OR NOT USING FACE DETECTION\n",
    "---"
   ]
  },
  {
   "cell_type": "markdown",
   "metadata": {},
   "source": [
    "### Task 1: Load the Data and Libraries\n",
    "---"
   ]
  },
  {
   "cell_type": "code",
   "execution_count": 2,
   "metadata": {},
   "outputs": [],
   "source": [
    "import cv2"
   ]
  },
  {
   "cell_type": "markdown",
   "metadata": {},
   "source": [
    "### Task 2: Reading The Face .xml File & converting image to BGR to GRAY scale \n",
    "---"
   ]
  },
  {
   "cell_type": "code",
   "execution_count": 3,
   "metadata": {},
   "outputs": [],
   "source": [
    "faceCascade = cv2.CascadeClassifier('face.xml')\n",
    "\n",
    "image = cv2.imread('face4.png')\n",
    "\n",
    "gray = cv2.cvtColor(image, cv2.COLOR_BGR2GRAY) "
   ]
  },
  {
   "cell_type": "code",
   "execution_count": 4,
   "metadata": {},
   "outputs": [
    {{
 "cells": [
  {
   "cell_type": "markdown",
   "metadata": {},
   "source": [
    "\n",
    "###  CHECK SOCIAL DISTANCING RULE FOLLOWED OR NOT USING FACE DETECTION\n",
    "---"
   ]
  },
  {
   "cell_type": "markdown",
   "metadata": {},
   "source": [
    "### Task 1: Load the Data and Libraries\n",
    "---"
   ]
  },
  {
   "cell_type": "code",
   "execution_count": 2,
   "metadata": {},
   "outputs": [],
   "source": [
    "import cv2"
   ]
  },
  {
   "cell_type": "markdown",
   "metadata": {},
   "source": [
    "### Task 2: Reading The Face .xml File & converting image to BGR to GRAY scale \n",
    "---"
   ]
  },
  {
   "cell_type": "code",
   "execution_count": 3,
   "metadata": {},
   "outputs": [],
   "source": [
    "faceCascade = cv2.CascadeClassifier('face.xml')\n",
    "\n",
    "image = cv2.imread('face4.png')\n",
    "\n",
    "gray = cv2.cvtColor(image, cv2.COLOR_BGR2GRAY) "
   ]
  },
  {
   "cell_type": "code",
   "execution_count": 4,
   "metadata": {},
   "outputs": [
    {
     "name": "stdout",
     "output_type": "stream",
     "text": [
      "[[243  36  56  56]\n",
      " [307  32  65  65]\n",
      " [173  80  56  56]\n",
      " [ 69  74  58  58]\n",
      " [125  42  52  52]]\n"
     ]
    }
   ],
   "source": [
    "faces=faceCascade.detectMultiScale(gray,scaleFactor=1.2,minNeighbors=5,minSize=(20, 20))\n",
    "\n",
    "print(faces)"
   ]
  },
  {
   "cell_type": "markdown",
   "metadata": {},
   "source": [
    "### Task 3: Appending Data Into The List And Identifying The Coordinate\n",
    "---"
   ]
  },
  {
   "cell_type": "code",
   "execution_count": 5,
   "metadata": {},
   "outputs": [
    {
     "name": "stdout",
     "output_type": "stream",
     "text": [
      "[243, 36]\n",
      "[307, 32]\n",
      "[173, 80]\n",
      "[69, 74]\n",
      "[125, 42]\n",
      "[[243, 36], [307, 32], [173, 80], [69, 74], [125, 42]]\n"
     ]
    }
   ],
   "source": [
    "l=[]\n",
    "i=1\n",
    "lf=[]\n",
    "for (x,y,w,h) in faces:\n",
    "    cv2.rectangle(image,(x,y),(x+w,y+h),(255,0,0),4)\n",
    "    s=str(i)\n",
    "    cv2.putText(image,s,(x,y),cv2.FONT_HERSHEY_SIMPLEX,1,(0,0,255),2)\n",
    "    i=i+1\n",
    "    l=[]\n",
    "    l.append(x)\n",
    "    l.append(y)\n",
    "    lf.append(l)\n",
    "    print(l)\n",
    "    \n",
    "print(lf)"
   ]
  },
  {
   "cell_type": "markdown",
   "metadata": {},
   "source": [
    "### Task 4: Visualize the Data Applying the Equations\n",
    "---"
   ]
  },
  {
   "cell_type": "markdown",
   "metadata": {},
   "source": [
    "Formula Used : $\\sqrt{{(x2-x1)}^{2}}+\\sqrt{{(y2-y1)}^{2}}$"
   ]
  },
  {
   "cell_type": "code",
   "execution_count": 6,
   "metadata": {},
   "outputs": [
    {
     "name": "stdout",
     "output_type": "stream",
     "text": [
      "[243, 36]\n",
      "[307, 32]\n",
      "64.1248781675256\n",
      "[173, 80]\n",
      "82.68010643437755\n",
      "[69, 74]\n",
      "178.10109488714548\n",
      "[125, 42]\n",
      "118.15244390193544\n",
      "[307, 32]\n",
      "[173, 80]\n",
      "142.33762678926468\n",
      "[69, 74]\n",
      "241.67747102284898\n",
      "[125, 42]\n",
      "182.27451824103116\n",
      "[173, 80]\n",
      "[69, 74]\n",
      "104.17293314484334\n",
      "[125, 42]\n",
      "61.220911460055866\n",
      "[69, 74]\n",
      "[125, 42]\n",
      "64.4980619863884\n",
      "[125, 42]\n",
      "Person1 and Person5;Person2 and Person5;Person3 and Person5;Person4 and Person5;Person5 and Person5;are not following social distancing\n"
     ]
    }
   ],
   "source": [
    "close_person=\"\"\n",
    "import math\n",
    "for i in range(len(lf)):\n",
    "    print(lf[i])\n",
    "    \n",
    "    for j in range(i+1,len(lf)):\n",
    "        print(lf[j])\n",
    "        d=math.sqrt(((lf[j][1]-lf[i][1])**2)+((lf[j][0]-lf[i][0])**2))\n",
    "        print(d)\n",
    "       \n",
    "    if d<400:\n",
    "        close_person = close_person+ \"Person\"+str(i+1)+\" and Person\"+str(j+1)+\";\"\n",
    "close_person+=\"are not following social distancing\"\n",
    "print(close_person)\n"
   ]
  },
  {
   "cell_type": "markdown",
   "metadata": {},
   "source": [
    "### Task 4:SHOW FACE DETECTION\n",
    "---"
   ]
  },
  {
   "cell_type": "code",
   "execution_count": 7,
   "metadata": {},
   "outputs": [
    {
     "data": {
      "text/plain": [
       "-1"
      ]
     },
     "execution_count": 7,
     "metadata": {},
     "output_type": "execute_result"
    }
   ],
   "source": [
    "\n",
    "\n",
    "\n",
    "cv2.imshow('Following social distancinhg or Not',image)\n",
    "cv2.waitKey(0)"
   ]
  },
  {
   "cell_type": "code",
   "execution_count": null,
   "metadata": {},
   "outputs": [],
   "source": []
  }
 ],
 "metadata": {
  "kernelspec": {
   "display_name": "Python 3",
   "language": "python",
   "name": "python3"
  },
  "language_info": {
   "codemirror_mode": {
    "name": "ipython",
    "version": 3
   },
   "file_extension": ".py",
   "mimetype": "text/x-python",
   "name": "python",
   "nbconvert_exporter": "python",
   "pygments_lexer": "ipython3",
   "version": "3.7.6"
  }
 },
 "nbformat": 4,
 "nbformat_minor": 4
}

  },
  {
   "cell_type": "code",
   "execution_count": 5,
   "metadata": {},
   "outputs": [
    {
     "name": "stdout",
     "output_type": "stream",
     "text": [
      "[243, 36]\n",
      "[307, 32]\n",
      "[173, 80]\n",
      "[69, 74]\n",
      "[125, 42]\n",
      "[[243, 36], [307, 32], [173, 80], [69, 74], [125, 42]]\n"
     ]
    }
   ],
   "source": [
    "l=[]\n",
    "i=1\n",
    "lf=[]\n",
    "for (x,y,w,h) in faces:\n",
    "    cv2.rectangle(image,(x,y),(x+w,y+h),(255,0,0),4)\n",
    "    s=str(i)\n",
    "    cv2.putText(image,s,(x,y),cv2.FONT_HERSHEY_SIMPLEX,1,(0,0,255),2)\n",
    "    i=i+1\n",
    "    l=[]\n",
    "    l.append(x)\n",
    "    l.append(y)\n",
    "    lf.append(l)\n",
    "    print(l)\n",
    "    \n",
    "print(lf)"
   ]
  },
  {
   "cell_type": "markdown",
   "metadata": {},
   "source": [
    "### Task 4: Visualize the Data Applying the Equations\n",
    "---"
   ]
  },
  {
   "cell_type": "markdown",
   "metadata": {},
   "source": [
    "Formula Used : $\\sqrt{{(x2-x1)}^{2}}+\\sqrt{{(y2-y1)}^{2}}$"
   ]
  },
  {
   "cell_type": "code",
   "execution_count": 6,
   "metadata": {},
   "outputs": [
    {
     "name": "stdout",
     "output_type": "stream",
     "text": [
      "[243, 36]\n",
      "[307, 32]\n",
      "64.1248781675256\n",
      "[173, 80]\n",
      "82.68010643437755\n",
      "[69, 74]\n",
      "178.10109488714548\n",
      "[125, 42]\n",
      "118.15244390193544\n",
      "[307, 32]\n",
      "[173, 80]\n",
      "142.33762678926468\n",
      "[69, 74]\n",
      "241.67747102284898\n",
      "[125, 42]\n",
      "182.27451824103116\n",
      "[173, 80]\n",
      "[69, 74]\n",
      "104.17293314484334\n",
      "[125, 42]\n",
      "61.220911460055866\n",
      "[69, 74]\n",
      "[125, 42]\n",
      "64.4980619863884\n",
      "[125, 42]\n",
      "Person1 and Person5;Person2 and Person5;Person3 and Person5;Person4 and Person5;Person5 and Person5;are not following social distancing\n"
     ]
    }
   ],
   "source": [
    "close_person=\"\"\n",
    "import math\n",
    "for i in range(len(lf)):\n",
    "    print(lf[i])\n",
    "    \n",
    "    for j in range(i+1,len(lf)):\n",
    "        print(lf[j])\n",
    "        d=math.sqrt(((lf[j][1]-lf[i][1])**2)+((lf[j][0]-lf[i][0])**2))\n",
    "        print(d)\n",
    "       \n",
    "    if d<400:\n",
    "        close_person = close_person+ \"Person\"+str(i+1)+\" and Person\"+str(j+1)+\";\"\n",
    "close_person+=\"are not following social distancing\"\n",
    "print(close_person)\n"
   ]
  },
  {
   "cell_type": "code",
   "execution_count": null,
   "metadata": {},
   "outputs": [],
   "source": []
  }
 ],
 "metadata": {
  "kernelspec": {
   "display_name": "Python 3",
   "language": "python",
   "name": "python3"
  },
  "language_info": {
   "codemirror_mode": {
    "name": "ipython",
    "version": 3
   },
   "file_extension": ".py",
   "mimetype": "text/x-python",
   "name": "python",
   "nbconvert_exporter": "python",
   "pygments_lexer": "ipython3",
   "version": "3.7.6"
  }
 },
 "nbformat": 4,
 "nbformat_minor": 4
}
